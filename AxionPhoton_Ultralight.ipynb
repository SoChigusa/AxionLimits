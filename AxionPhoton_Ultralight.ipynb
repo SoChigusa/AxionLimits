{
 "cells": [
  {
   "cell_type": "markdown",
   "id": "1a00869f",
   "metadata": {},
   "source": [
    "# Ultralight axions\n",
    "\n",
    "Bounds for cosmic birefringence, pulsar timing arrays etc. extending down to the fuzzy dark matter range"
   ]
  },
  {
   "cell_type": "code",
   "execution_count": null,
   "id": "6e6f4822",
   "metadata": {},
   "outputs": [],
   "source": [
    "%matplotlib inline\n",
    "from numpy import *\n",
    "import matplotlib.pyplot as plt\n",
    "from PlotFuncs import FigSetup, AxionPhoton, MySaveFig, BlackHoleSpins, FilledLimit, line_background\n",
    "from PlotFuncs_ScalarVector import FuzzyDM\n",
    "\n",
    "fig,ax = FigSetup(Shape='Rectangular',ylab='$|g_{a\\gamma\\gamma}|$ [GeV$^{-1}$]',mathpazo=True,\n",
    "                  m_min=1e-25,m_max=1e-15,g_min=1e-17,g_max=1e-9,xtick_rotation=0,FrequencyAxis=True,N_Hz=1)\n",
    "\n",
    "FuzzyDM(ax,text_label=r'{\\bf Fuzzy DM}',alpha=0.02,facecolor='gray',zorder=0,text_shift=[1e-2,0.5e-4],rotation=0,text_col='w',fs=40)\n",
    "\n",
    "AxionPhoton.Helioscopes(ax)\n",
    "plt.text(1e-21,1.5e-10,r'{\\bf CAST}',fontsize=40,color='w',path_effects=line_background(1.5,'k'))\n",
    "\n",
    "AxionPhoton.SN1987A_gamma(ax,text_on=False)\n",
    "AxionPhoton.NGC1275(ax,text_on=False)\n",
    "AxionPhoton.Hydra(ax,text_on=False)\n",
    "AxionPhoton.M87(ax,text_on=False)\n",
    "AxionPhoton.StarClusters(ax,text_on=False)\n",
    "AxionPhoton.DSNALP(ax,text_on=False)\n",
    "plt.text(8e-16,4e-11,r'{\\bf Diffuse SNe}',fontsize=20,color='w',path_effects=line_background(1.5,'k'),ha='right',clip_on=True)\n",
    "plt.text(8e-16,1.5e-11,r'{\\bf Hydra A}',fontsize=21,color='w',path_effects=line_background(1.5,'k'),ha='right',clip_on=True)\n",
    "plt.text(8e-16,0.45e-11,r'{\\bf Super star clusters}',fontsize=21,color='w',path_effects=line_background(1.5,'k'),ha='right',clip_on=True)\n",
    "plt.text(8e-16,1.5e-12,r'{\\bf M87}',fontsize=21,color='w',path_effects=line_background(1.5,'k'),ha='right',clip_on=True)\n",
    "plt.text(8e-16,0.85e-12,r'{\\bf NGC1275}',fontsize=21,color='w',path_effects=line_background(1.5,'k'),ha='right',clip_on=True)\n",
    "\n",
    "AxionPhoton.SuperMAG(ax)\n",
    "AxionPhoton.PPTA_QUIJOTE(ax)\n",
    "AxionPhoton.BICEPKECK(ax)\n",
    "AxionPhoton.MOJAVE(ax)\n",
    "AxionPhoton.SPT(ax)\n",
    "\n",
    "# Planck cosmic birefringence\n",
    "col = '#49728a'\n",
    "mvals = logspace(-30,-10)\n",
    "plt.fill_between(mvals,(mvals/1e-22)*9.670231994906073e-14,y2=1,color=col,alpha=1,zorder=1)\n",
    "plt.plot(mvals,(mvals/1e-22)*9.670231994906073e-14,'-',color='k',lw=3,zorder=1)\n",
    "mvals = logspace(-30,-10)\n",
    "plt.plot(mvals,(mvals/1e-22)*3.656847050395955e-14,':',color='k',lw=3,zorder=1,alpha=0.75)\n",
    "plt.text(0.2e-24,0.4e-15,r'{\\bf Planck (washout)',color='w',fontsize=23,rotation=40,path_effects=line_background(1.5,'k'))\n",
    "plt.text(0.2e-24,0.45e-16,r'{\\bf Planck (cosmic variance)',color='k',fontsize=20,rotation=40,alpha=1,zorder=10)\n",
    "\n",
    "MySaveFig(fig,'AxionPhoton_Ultralight')\n",
    "\n",
    "# Projections\n",
    "AxionPhoton.PPA(ax)\n",
    "AxionPhoton.TwistedAnyonCavity(ax)\n",
    "AxionPhoton.DANCE(ax,text_pos=[1.2e-16,1.7e-16],rotation=12,linestyle='--',fs=20)\n",
    "AxionPhoton.SRF(ax)\n",
    "\n",
    "MySaveFig(fig,'AxionPhoton_Ultralight_with_Projections')\n"
   ]
  },
  {
   "cell_type": "code",
   "execution_count": null,
   "id": "31afab44",
   "metadata": {},
   "outputs": [],
   "source": []
  }
 ],
 "metadata": {
  "kernelspec": {
   "display_name": "Python 3 (ipykernel)",
   "language": "python",
   "name": "python3"
  },
  "language_info": {
   "codemirror_mode": {
    "name": "ipython",
    "version": 3
   },
   "file_extension": ".py",
   "mimetype": "text/x-python",
   "name": "python",
   "nbconvert_exporter": "python",
   "pygments_lexer": "ipython3",
   "version": "3.9.12"
  }
 },
 "nbformat": 4,
 "nbformat_minor": 5
}
