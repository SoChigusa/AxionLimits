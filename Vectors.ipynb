{
 "cells": [
  {
   "cell_type": "code",
   "execution_count": 3,
   "id": "7f489584",
   "metadata": {},
   "outputs": [],
   "source": [
    "from numpy import *\n",
    "import matplotlib.pyplot as plt\n",
    "from PlotFuncs import FigSetup,MySaveFig,UnfilledLimit,UpperFrequencyAxis_Simple,FilledLimit,line_background\n",
    "from PlotFuncs_ScalarVector import VectorBL\n",
    "import matplotlib as mpl  \n",
    "\n",
    "    \n",
    "# Figure setup\n",
    "fig,ax = FigSetup(Shape='Rectangular',xlab='Vector boson mass [eV]',ylab=r'Gauge coupling, $g_{B-L}$',mathpazo=True,\\\n",
    "                              g_min=1e-29,g_max=1e-9,m_min=1e-22,m_max=1e4,FrequencyAxis=False,N_Hz=1)\n",
    "m_min,m_max = ax.get_xlim()\n",
    "ax2 = ax.twiny()\n",
    "ax2.set_xlim([m_min*241.8*1e12,m_max*241.8*1e12])\n",
    "ax2.set_xscale('log')\n",
    "ax2.tick_params(labelsize=25)\n",
    "ax2.tick_params(which='major',direction='out',width=2.5,length=13,pad=0)\n",
    "ax2.tick_params(which='minor',direction='out',width=1,length=10)\n",
    "locmaj = mpl.ticker.LogLocator(base=10.0, subs=(1.0, ), numticks=50)\n",
    "locmin = mpl.ticker.LogLocator(base=10.0, subs=arange(2, 10)*.1,numticks=100)\n",
    "ax2.xaxis.set_major_locator(locmaj)\n",
    "ax2.xaxis.set_minor_locator(locmin)\n",
    "ax2.xaxis.set_minor_formatter(mpl.ticker.NullFormatter())\n",
    "ax2.set_xticks([1e-6,1e-3,1e0,1e3,1e6,1e9,1e12,1*241.8*1e12,1000*241.8*1e12])\n",
    "ax2.set_xticklabels([r'$\\mu$Hz','mHz','Hz','kHz','MHz','GHz','THz','eV','keV']);\n",
    "plt.sca(ax)\n",
    "\n",
    "\n",
    "# Fifth force etc.\n",
    "VectorBL.MICROSCOPE(ax)\n",
    "VectorBL.EotWashEP(ax)\n",
    "VectorBL.InverseSquareLaw(ax)\n",
    "\n",
    "# Astro/Cos\n",
    "VectorBL.Sun(ax)\n",
    "VectorBL.HorizontalBranch(ax)\n",
    "VectorBL.DMStability(ax)\n",
    "\n",
    "# Dark matter\n",
    "VectorBL.EotWashDM(ax)\n",
    "VectorBL.LIGO(ax)\n",
    "VectorBL.LIGOVirgo(ax)\n",
    "VectorBL.LISAPathfinder(ax)\n",
    "\n",
    "MySaveFig(fig,'VectorB-L')\n",
    "\n",
    "# Projections\n",
    "VectorBL.MAGIS(ax)\n",
    "VectorBL.OptomechanicalMembranes(ax)\n",
    "VectorBL.LISA(ax)\n",
    "VectorBL.SKA(ax)\n",
    "VectorBL.TorsionBalance(ax)\n",
    "VectorBL.Asteroids(ax)\n",
    "VectorBL.STE_QUEST(ax)\n",
    "\n",
    "MySaveFig(fig,'VectorB-L_with_Projections')"
   ]
  },
  {
   "cell_type": "code",
   "execution_count": 6,
   "id": "f02281aa",
   "metadata": {},
   "outputs": [],
   "source": [
    "# Redefining scalar-nucleon coupling \n",
    "# difference is a factor of sqrt(4pi alpha) from different definition of coupling\n",
    "dat = loadtxt('limit_data/ScalarNucleon/Union_InverseSquareLaw.txt')\n",
    "DAT = column_stack((dat[1:,0],dat[1:,1]*sqrt(137/(4*pi))))\n",
    "savetxt('limit_data/VectorB-L/InverseSquareLaw.txt',DAT,header='compiled from /ScalarNucleon/Union_InverseSquareLaw.txt \\n rescaled to g_B-L defined relative to EM \\n mass [eV] \\t g_B-L')\n",
    "\n",
    "dat = loadtxt('limit_data/ScalarNucleon/Casimir.txt')\n",
    "DAT = column_stack((0.1973*1e-6/dat[:,0],sqrt(dat[:,1]/1.37e37)*sqrt(137/(4*pi))))\n",
    "savetxt('limit_data/VectorB-L/Casimir.txt',DAT,header='compiled from /ScalarNucleon/Casimir.txt \\n rescaled to g_B-L defined relative to EM \\n mass [eV] \\t g_B-L')"
   ]
  }
 ],
 "metadata": {
  "kernelspec": {
   "display_name": "Python 3 (ipykernel)",
   "language": "python",
   "name": "python3"
  },
  "language_info": {
   "codemirror_mode": {
    "name": "ipython",
    "version": 3
   },
   "file_extension": ".py",
   "mimetype": "text/x-python",
   "name": "python",
   "nbconvert_exporter": "python",
   "pygments_lexer": "ipython3",
   "version": "3.9.12"
  }
 },
 "nbformat": 4,
 "nbformat_minor": 5
}
